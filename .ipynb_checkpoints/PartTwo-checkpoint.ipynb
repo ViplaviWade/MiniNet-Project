{
 "cells": [
  {
   "cell_type": "code",
   "execution_count": 1,
   "metadata": {},
   "outputs": [
    {
     "name": "stderr",
     "output_type": "stream",
     "text": [
      "[nltk_data] Downloading package stopwords to\n",
      "[nltk_data]     C:\\Users\\wadev\\AppData\\Roaming\\nltk_data...\n",
      "[nltk_data]   Package stopwords is already up-to-date!\n"
     ]
    },
    {
     "name": "stdout",
     "output_type": "stream",
     "text": [
      "Index(['speech', 'party', 'constituency', 'date', 'speech_class',\n",
      "       'major_heading', 'year', 'speakername'],\n",
      "      dtype='object')\n"
     ]
    }
   ],
   "source": [
    "import pandas as pd\n",
    "from sklearn.model_selection import train_test_split\n",
    "from sklearn.feature_extraction.text import TfidfVectorizer\n",
    "from sklearn.ensemble import RandomForestClassifier\n",
    "from sklearn.svm import SVC\n",
    "from sklearn.metrics import classification_report, f1_score\n",
    "from nltk.corpus import stopwords\n",
    "from nltk.tokenize import word_tokenize\n",
    "import nltk\n",
    "import re\n",
    "\n",
    "nltk.download('stopwords')\n",
    "\n",
    "# Read the dataset\n",
    "df = pd.read_csv(\"C:/Users/wadev/OneDrive/Desktop/viplavi/BBK Folder/Semester-3/Natural Language Processing/NLP Project/NLP Project/wade-viplavi-13922741-NLP-cw24/wade-viplavi-13922741-NLP-cw24\\p2-texts\\hansard40000.csv\")\n",
    "# Print the column names to verify\n",
    "print(df.columns)"
   ]
  },
  {
   "cell_type": "code",
   "execution_count": 2,
   "metadata": {},
   "outputs": [
    {
     "name": "stdout",
     "output_type": "stream",
     "text": [
      "                                                  speech         party  \\\n",
      "0      Unemployment is soaring, uptake in benefits ha...        Labour   \n",
      "1      I thank the hon. Gentleman for raising issues ...  Conservative   \n",
      "2      As my hon. Friend the Member for Portsmouth So...        Labour   \n",
      "3      I thank the hon. Gentleman for raising the nee...  Conservative   \n",
      "4      There is no doubt that the unemployment situat...        Labour   \n",
      "...                                                  ...           ...   \n",
      "39995  I totally agree with everything that the right...       Speaker   \n",
      "39996  Message to attend the Lords Commissioners deli...           NaN   \n",
      "39997  I have to acquaint the House that the House ha...       Speaker   \n",
      "39998  I have further to acquaint the House that the ...       Speaker   \n",
      "39999  The Commission was also for proroguing this pr...       Speaker   \n",
      "\n",
      "                    constituency        date speech_class  \\\n",
      "0               Portsmouth South  2020-09-14       Speech   \n",
      "1                     Mid Sussex  2020-09-14       Speech   \n",
      "2         Warwick and Leamington  2020-09-14       Speech   \n",
      "3                     Mid Sussex  2020-09-14       Speech   \n",
      "4      Ellesmere Port and Neston  2020-09-14       Speech   \n",
      "...                          ...         ...          ...   \n",
      "39995                    Chorley  2021-04-29       Speech   \n",
      "39996                        NaN  2021-04-29   Procedural   \n",
      "39997                    Chorley  2021-04-29       Speech   \n",
      "39998                    Chorley  2021-04-29       Speech   \n",
      "39999                    Chorley  2021-04-29       Speech   \n",
      "\n",
      "                                   major_heading  year     speakername  \n",
      "0                              Work and Pensions  2020  Stephen Morgan  \n",
      "1                              Work and Pensions  2020     Mims Davies  \n",
      "2                              Work and Pensions  2020    Matt Western  \n",
      "3                              Work and Pensions  2020     Mims Davies  \n",
      "4                              Work and Pensions  2020  Justin Madders  \n",
      "...                                          ...   ...             ...  \n",
      "39995                             Point of Order  2021   Lindsay Hoyle  \n",
      "39996  Message to Attend the Lords Commissioners  2021         Unknown  \n",
      "39997                               Royal Assent  2021   Lindsay Hoyle  \n",
      "39998         Her Majesty’s Most Gracious Speech  2021   Lindsay Hoyle  \n",
      "39999                                Prorogation  2021   Lindsay Hoyle  \n",
      "\n",
      "[40000 rows x 8 columns]\n"
     ]
    }
   ],
   "source": [
    "# Preprocess the dataframe\n",
    "df['party'] = df['party'].replace('Labour (Co-op)', 'Labour')\n",
    "print(df)"
   ]
  },
  {
   "cell_type": "code",
   "execution_count": 3,
   "metadata": {},
   "outputs": [
    {
     "name": "stdout",
     "output_type": "stream",
     "text": [
      "['Labour' 'Conservative' 'Scottish National Party' 'Liberal Democrat']\n"
     ]
    }
   ],
   "source": [
    "# Filter to keep only the four most common parties (excluding 'Speaker')\n",
    "top_parties = df[df['party'] != 'Speaker']['party'].value_counts().nlargest(4).index\n",
    "df = df[df['party'].isin(top_parties)]\n",
    "print(df['party'].unique()\n",
    "     )"
   ]
  },
  {
   "cell_type": "code",
   "execution_count": 4,
   "metadata": {},
   "outputs": [
    {
     "name": "stdout",
     "output_type": "stream",
     "text": [
      "                                                  speech         party  \\\n",
      "0      Unemployment is soaring, uptake in benefits ha...        Labour   \n",
      "1      I thank the hon. Gentleman for raising issues ...  Conservative   \n",
      "2      As my hon. Friend the Member for Portsmouth So...        Labour   \n",
      "3      I thank the hon. Gentleman for raising the nee...  Conservative   \n",
      "4      There is no doubt that the unemployment situat...        Labour   \n",
      "...                                                  ...           ...   \n",
      "39985  I will answer my hon. Friend. East West Rail, ...  Conservative   \n",
      "39990  The hon. Gentleman is absolutely right to poin...  Conservative   \n",
      "39991  Cutting-edge maritime projects such as the Hol...  Conservative   \n",
      "39992  My hon. Friend is a brilliant champion of conn...  Conservative   \n",
      "39994  On a point of order, Mr Speaker. As a further ...  Conservative   \n",
      "\n",
      "                    constituency        date speech_class      major_heading  \\\n",
      "0               Portsmouth South  2020-09-14       Speech  Work and Pensions   \n",
      "1                     Mid Sussex  2020-09-14       Speech  Work and Pensions   \n",
      "2         Warwick and Leamington  2020-09-14       Speech  Work and Pensions   \n",
      "3                     Mid Sussex  2020-09-14       Speech  Work and Pensions   \n",
      "4      Ellesmere Port and Neston  2020-09-14       Speech  Work and Pensions   \n",
      "...                          ...         ...          ...                ...   \n",
      "39985            Welwyn Hatfield  2021-04-29       Speech          Transport   \n",
      "39990            Welwyn Hatfield  2021-04-29       Speech          Transport   \n",
      "39991                   Ynys Môn  2021-04-29       Speech          Transport   \n",
      "39992                   Redditch  2021-04-29       Speech          Transport   \n",
      "39994     Haltemprice and Howden  2021-04-29       Speech     Point of Order   \n",
      "\n",
      "       year       speakername  \n",
      "0      2020    Stephen Morgan  \n",
      "1      2020       Mims Davies  \n",
      "2      2020      Matt Western  \n",
      "3      2020       Mims Davies  \n",
      "4      2020    Justin Madders  \n",
      "...     ...               ...  \n",
      "39985  2021      Grant Shapps  \n",
      "39990  2021      Grant Shapps  \n",
      "39991  2021  Virginia Crosbie  \n",
      "39992  2021    Rachel Maclean  \n",
      "39994  2021       David Davis  \n",
      "\n",
      "[36223 rows x 8 columns]\n"
     ]
    }
   ],
   "source": [
    "# Keep only rows where 'speech_class' is 'Speech'\n",
    "df = df[df['speech_class'] == 'Speech']\n",
    "print(df)"
   ]
  },
  {
   "cell_type": "code",
   "execution_count": 5,
   "metadata": {},
   "outputs": [
    {
     "name": "stdout",
     "output_type": "stream",
     "text": [
      "                                                speech  \\\n",
      "99   I am delighted to announce that last Friday we...   \n",
      "100  I thank the Secretary of State for advance sig...   \n",
      "101  After the right hon. Lady’s congratulations to...   \n",
      "104  I congratulate the Secretary of State. I recog...   \n",
      "188  I beg to move, That the Bill be now read a Sec...   \n",
      "\n",
      "                       party                  constituency        date  \\\n",
      "99              Conservative            South West Norfolk  2020-09-14   \n",
      "100                   Labour  Islington South and Finsbury  2020-09-14   \n",
      "101             Conservative            South West Norfolk  2020-09-14   \n",
      "104  Scottish National Party                   Dundee East  2020-09-14   \n",
      "188             Conservative    Uxbridge and South Ruislip  2020-09-14   \n",
      "\n",
      "    speech_class                        major_heading  year       speakername  \n",
      "99        Speech           Japan Free Trade Agreement  2020   Elizabeth Truss  \n",
      "100       Speech           Japan Free Trade Agreement  2020  Emily Thornberry  \n",
      "101       Speech           Japan Free Trade Agreement  2020   Elizabeth Truss  \n",
      "104       Speech           Japan Free Trade Agreement  2020     Stewart Hosie  \n",
      "188       Speech  United Kingdom Internal Market Bill  2020     Boris Johnson  \n"
     ]
    }
   ],
   "source": [
    "# Remove speeches with less than 1500 characters\n",
    "df = df[df['speech'].str.len() >= 1500]\n",
    "print(df.head())"
   ]
  },
  {
   "cell_type": "code",
   "execution_count": 6,
   "metadata": {},
   "outputs": [
    {
     "name": "stdout",
     "output_type": "stream",
     "text": [
      "speech           0\n",
      "party            0\n",
      "constituency     2\n",
      "date             0\n",
      "speech_class     0\n",
      "major_heading    0\n",
      "year             0\n",
      "speakername      0\n",
      "dtype: int64\n"
     ]
    }
   ],
   "source": [
    "# Check for NaN values in the DataFrame\n",
    "print(df.isna().sum())"
   ]
  },
  {
   "cell_type": "code",
   "execution_count": 7,
   "metadata": {},
   "outputs": [
    {
     "data": {
      "text/html": [
       "<div>\n",
       "<style scoped>\n",
       "    .dataframe tbody tr th:only-of-type {\n",
       "        vertical-align: middle;\n",
       "    }\n",
       "\n",
       "    .dataframe tbody tr th {\n",
       "        vertical-align: top;\n",
       "    }\n",
       "\n",
       "    .dataframe thead th {\n",
       "        text-align: right;\n",
       "    }\n",
       "</style>\n",
       "<table border=\"1\" class=\"dataframe\">\n",
       "  <thead>\n",
       "    <tr style=\"text-align: right;\">\n",
       "      <th></th>\n",
       "      <th>speech</th>\n",
       "      <th>party</th>\n",
       "      <th>constituency</th>\n",
       "      <th>date</th>\n",
       "      <th>speech_class</th>\n",
       "      <th>major_heading</th>\n",
       "      <th>year</th>\n",
       "      <th>speakername</th>\n",
       "    </tr>\n",
       "  </thead>\n",
       "  <tbody>\n",
       "    <tr>\n",
       "      <th>99</th>\n",
       "      <td>I am delighted to announce that last Friday we...</td>\n",
       "      <td>Conservative</td>\n",
       "      <td>South West Norfolk</td>\n",
       "      <td>2020-09-14</td>\n",
       "      <td>Speech</td>\n",
       "      <td>Japan Free Trade Agreement</td>\n",
       "      <td>2020</td>\n",
       "      <td>Elizabeth Truss</td>\n",
       "    </tr>\n",
       "    <tr>\n",
       "      <th>100</th>\n",
       "      <td>I thank the Secretary of State for advance sig...</td>\n",
       "      <td>Labour</td>\n",
       "      <td>Islington South and Finsbury</td>\n",
       "      <td>2020-09-14</td>\n",
       "      <td>Speech</td>\n",
       "      <td>Japan Free Trade Agreement</td>\n",
       "      <td>2020</td>\n",
       "      <td>Emily Thornberry</td>\n",
       "    </tr>\n",
       "    <tr>\n",
       "      <th>101</th>\n",
       "      <td>After the right hon. Lady’s congratulations to...</td>\n",
       "      <td>Conservative</td>\n",
       "      <td>South West Norfolk</td>\n",
       "      <td>2020-09-14</td>\n",
       "      <td>Speech</td>\n",
       "      <td>Japan Free Trade Agreement</td>\n",
       "      <td>2020</td>\n",
       "      <td>Elizabeth Truss</td>\n",
       "    </tr>\n",
       "    <tr>\n",
       "      <th>104</th>\n",
       "      <td>I congratulate the Secretary of State. I recog...</td>\n",
       "      <td>Scottish National Party</td>\n",
       "      <td>Dundee East</td>\n",
       "      <td>2020-09-14</td>\n",
       "      <td>Speech</td>\n",
       "      <td>Japan Free Trade Agreement</td>\n",
       "      <td>2020</td>\n",
       "      <td>Stewart Hosie</td>\n",
       "    </tr>\n",
       "    <tr>\n",
       "      <th>188</th>\n",
       "      <td>I beg to move, That the Bill be now read a Sec...</td>\n",
       "      <td>Conservative</td>\n",
       "      <td>Uxbridge and South Ruislip</td>\n",
       "      <td>2020-09-14</td>\n",
       "      <td>Speech</td>\n",
       "      <td>United Kingdom Internal Market Bill</td>\n",
       "      <td>2020</td>\n",
       "      <td>Boris Johnson</td>\n",
       "    </tr>\n",
       "    <tr>\n",
       "      <th>...</th>\n",
       "      <td>...</td>\n",
       "      <td>...</td>\n",
       "      <td>...</td>\n",
       "      <td>...</td>\n",
       "      <td>...</td>\n",
       "      <td>...</td>\n",
       "      <td>...</td>\n",
       "      <td>...</td>\n",
       "    </tr>\n",
       "    <tr>\n",
       "      <th>39826</th>\n",
       "      <td>My right hon. Friend raises a question of cons...</td>\n",
       "      <td>Conservative</td>\n",
       "      <td>North East Somerset</td>\n",
       "      <td>2021-04-28</td>\n",
       "      <td>Speech</td>\n",
       "      <td>Amendments to the Independent Complaints and G...</td>\n",
       "      <td>2021</td>\n",
       "      <td>Jacob Rees-Mogg</td>\n",
       "    </tr>\n",
       "    <tr>\n",
       "      <th>39827</th>\n",
       "      <td>Before we move on to the other motions, I too ...</td>\n",
       "      <td>Conservative</td>\n",
       "      <td>Ribble Valley</td>\n",
       "      <td>2021-04-28</td>\n",
       "      <td>Speech</td>\n",
       "      <td>Amendments to the Independent Complaints and G...</td>\n",
       "      <td>2021</td>\n",
       "      <td>Nigel Evans</td>\n",
       "    </tr>\n",
       "    <tr>\n",
       "      <th>39834</th>\n",
       "      <td>Thank you, Mr Deputy Speaker, and I am very gr...</td>\n",
       "      <td>Conservative</td>\n",
       "      <td>South West Bedfordshire</td>\n",
       "      <td>2021-04-28</td>\n",
       "      <td>Speech</td>\n",
       "      <td>National Minimum Wage Enforcement</td>\n",
       "      <td>2021</td>\n",
       "      <td>Andrew Selous</td>\n",
       "    </tr>\n",
       "    <tr>\n",
       "      <th>39835</th>\n",
       "      <td>I congratulate my hon. Friend the Member for S...</td>\n",
       "      <td>Conservative</td>\n",
       "      <td>Sutton and Cheam</td>\n",
       "      <td>2021-04-28</td>\n",
       "      <td>Speech</td>\n",
       "      <td>National Minimum Wage Enforcement</td>\n",
       "      <td>2021</td>\n",
       "      <td>Paul Scully</td>\n",
       "    </tr>\n",
       "    <tr>\n",
       "      <th>39837</th>\n",
       "      <td>The hon. Gentleman makes an important, twofold...</td>\n",
       "      <td>Conservative</td>\n",
       "      <td>Sutton and Cheam</td>\n",
       "      <td>2021-04-28</td>\n",
       "      <td>Speech</td>\n",
       "      <td>National Minimum Wage Enforcement</td>\n",
       "      <td>2021</td>\n",
       "      <td>Paul Scully</td>\n",
       "    </tr>\n",
       "  </tbody>\n",
       "</table>\n",
       "<p>6472 rows × 8 columns</p>\n",
       "</div>"
      ],
      "text/plain": [
       "                                                  speech  \\\n",
       "99     I am delighted to announce that last Friday we...   \n",
       "100    I thank the Secretary of State for advance sig...   \n",
       "101    After the right hon. Lady’s congratulations to...   \n",
       "104    I congratulate the Secretary of State. I recog...   \n",
       "188    I beg to move, That the Bill be now read a Sec...   \n",
       "...                                                  ...   \n",
       "39826  My right hon. Friend raises a question of cons...   \n",
       "39827  Before we move on to the other motions, I too ...   \n",
       "39834  Thank you, Mr Deputy Speaker, and I am very gr...   \n",
       "39835  I congratulate my hon. Friend the Member for S...   \n",
       "39837  The hon. Gentleman makes an important, twofold...   \n",
       "\n",
       "                         party                  constituency        date  \\\n",
       "99                Conservative            South West Norfolk  2020-09-14   \n",
       "100                     Labour  Islington South and Finsbury  2020-09-14   \n",
       "101               Conservative            South West Norfolk  2020-09-14   \n",
       "104    Scottish National Party                   Dundee East  2020-09-14   \n",
       "188               Conservative    Uxbridge and South Ruislip  2020-09-14   \n",
       "...                        ...                           ...         ...   \n",
       "39826             Conservative           North East Somerset  2021-04-28   \n",
       "39827             Conservative                 Ribble Valley  2021-04-28   \n",
       "39834             Conservative       South West Bedfordshire  2021-04-28   \n",
       "39835             Conservative              Sutton and Cheam  2021-04-28   \n",
       "39837             Conservative              Sutton and Cheam  2021-04-28   \n",
       "\n",
       "      speech_class                                      major_heading  year  \\\n",
       "99          Speech                         Japan Free Trade Agreement  2020   \n",
       "100         Speech                         Japan Free Trade Agreement  2020   \n",
       "101         Speech                         Japan Free Trade Agreement  2020   \n",
       "104         Speech                         Japan Free Trade Agreement  2020   \n",
       "188         Speech                United Kingdom Internal Market Bill  2020   \n",
       "...            ...                                                ...   ...   \n",
       "39826       Speech  Amendments to the Independent Complaints and G...  2021   \n",
       "39827       Speech  Amendments to the Independent Complaints and G...  2021   \n",
       "39834       Speech                  National Minimum Wage Enforcement  2021   \n",
       "39835       Speech                  National Minimum Wage Enforcement  2021   \n",
       "39837       Speech                  National Minimum Wage Enforcement  2021   \n",
       "\n",
       "            speakername  \n",
       "99      Elizabeth Truss  \n",
       "100    Emily Thornberry  \n",
       "101     Elizabeth Truss  \n",
       "104       Stewart Hosie  \n",
       "188       Boris Johnson  \n",
       "...                 ...  \n",
       "39826   Jacob Rees-Mogg  \n",
       "39827       Nigel Evans  \n",
       "39834     Andrew Selous  \n",
       "39835       Paul Scully  \n",
       "39837       Paul Scully  \n",
       "\n",
       "[6472 rows x 8 columns]"
      ]
     },
     "execution_count": 7,
     "metadata": {},
     "output_type": "execute_result"
    }
   ],
   "source": [
    "# Remove rows with NaN values\n",
    "df = df.dropna()\n",
    "df"
   ]
  },
  {
   "cell_type": "code",
   "execution_count": 8,
   "metadata": {},
   "outputs": [
    {
     "name": "stdout",
     "output_type": "stream",
     "text": [
      "speech           0\n",
      "party            0\n",
      "constituency     0\n",
      "date             0\n",
      "speech_class     0\n",
      "major_heading    0\n",
      "year             0\n",
      "speakername      0\n",
      "dtype: int64\n"
     ]
    }
   ],
   "source": [
    "# Verify that there are no NaN values\n",
    "print(df.isna().sum())"
   ]
  },
  {
   "cell_type": "code",
   "execution_count": 9,
   "metadata": {},
   "outputs": [
    {
     "name": "stdout",
     "output_type": "stream",
     "text": [
      "(6472, 8)\n"
     ]
    }
   ],
   "source": [
    "# Print the dimensions of the resulting dataframe\n",
    "print(df.shape)"
   ]
  },
  {
   "cell_type": "code",
   "execution_count": 10,
   "metadata": {},
   "outputs": [
    {
     "name": "stdout",
     "output_type": "stream",
     "text": [
      "99                  Conservative\n",
      "100                       Labour\n",
      "101                 Conservative\n",
      "104      Scottish National Party\n",
      "188                 Conservative\n",
      "                  ...           \n",
      "39826               Conservative\n",
      "39827               Conservative\n",
      "39834               Conservative\n",
      "39835               Conservative\n",
      "39837               Conservative\n",
      "Name: party, Length: 6472, dtype: object\n"
     ]
    }
   ],
   "source": [
    "# Vectorize the speeches using TfidfVectorizer\n",
    "vectorizer = TfidfVectorizer(stop_words='english', max_features=4000)\n",
    "X = vectorizer.fit_transform(df['speech'])\n",
    "y = df['party']\n",
    "print(y)"
   ]
  },
  {
   "cell_type": "code",
   "execution_count": 11,
   "metadata": {},
   "outputs": [],
   "source": [
    "# Split the data into a train and test set using stratified sampling\n",
    "X_train, X_test, y_train, y_test = train_test_split(X, y, test_size=0.2, stratify=y, random_state=99)"
   ]
  },
  {
   "cell_type": "code",
   "execution_count": 12,
   "metadata": {},
   "outputs": [
    {
     "name": "stdout",
     "output_type": "stream",
     "text": [
      "RandomForest Classifier\n",
      "F1 Score: 0.43868697020125846\n",
      "                         precision    recall  f1-score   support\n",
      "\n",
      "           Conservative       0.71      0.99      0.83       731\n",
      "                 Labour       0.81      0.51      0.63       402\n",
      "       Liberal Democrat       0.00      0.00      0.00        50\n",
      "Scottish National Party       0.91      0.18      0.30       112\n",
      "\n",
      "               accuracy                           0.73      1295\n",
      "              macro avg       0.61      0.42      0.44      1295\n",
      "           weighted avg       0.73      0.73      0.69      1295\n",
      "\n"
     ]
    },
    {
     "name": "stderr",
     "output_type": "stream",
     "text": [
      "C:\\Users\\wadev\\anaconda3\\Lib\\site-packages\\sklearn\\metrics\\_classification.py:1469: UndefinedMetricWarning: Precision and F-score are ill-defined and being set to 0.0 in labels with no predicted samples. Use `zero_division` parameter to control this behavior.\n",
      "  _warn_prf(average, modifier, msg_start, len(result))\n",
      "C:\\Users\\wadev\\anaconda3\\Lib\\site-packages\\sklearn\\metrics\\_classification.py:1469: UndefinedMetricWarning: Precision and F-score are ill-defined and being set to 0.0 in labels with no predicted samples. Use `zero_division` parameter to control this behavior.\n",
      "  _warn_prf(average, modifier, msg_start, len(result))\n",
      "C:\\Users\\wadev\\anaconda3\\Lib\\site-packages\\sklearn\\metrics\\_classification.py:1469: UndefinedMetricWarning: Precision and F-score are ill-defined and being set to 0.0 in labels with no predicted samples. Use `zero_division` parameter to control this behavior.\n",
      "  _warn_prf(average, modifier, msg_start, len(result))\n"
     ]
    }
   ],
   "source": [
    "# Train a RandomForest classifier\n",
    "rf_clf = RandomForestClassifier(n_estimators=400, random_state=99)\n",
    "rf_clf.fit(X_train, y_train)\n",
    "y_pred_rf = rf_clf.predict(X_test)\n",
    "print(\"RandomForest Classifier\")\n",
    "print(\"F1 Score:\", f1_score(y_test, y_pred_rf, average='macro'))\n",
    "print(classification_report(y_test, y_pred_rf))"
   ]
  },
  {
   "cell_type": "code",
   "execution_count": 13,
   "metadata": {},
   "outputs": [
    {
     "name": "stdout",
     "output_type": "stream",
     "text": [
      "SVM Classifier\n",
      "F1 Score: 0.6021347544436162\n",
      "                         precision    recall  f1-score   support\n",
      "\n",
      "           Conservative       0.82      0.93      0.88       731\n",
      "                 Labour       0.77      0.76      0.76       402\n",
      "       Liberal Democrat       0.80      0.08      0.15        50\n",
      "Scottish National Party       0.84      0.50      0.63       112\n",
      "\n",
      "               accuracy                           0.81      1295\n",
      "              macro avg       0.81      0.57      0.60      1295\n",
      "           weighted avg       0.81      0.81      0.79      1295\n",
      "\n"
     ]
    }
   ],
   "source": [
    "# Train an SVM classifier\n",
    "svm_clf = SVC(kernel='linear', random_state=99)\n",
    "svm_clf.fit(X_train, y_train)\n",
    "y_pred_svm = svm_clf.predict(X_test)\n",
    "print(\"SVM Classifier\")\n",
    "print(\"F1 Score:\", f1_score(y_test, y_pred_svm, average='macro'))\n",
    "print(classification_report(y_test, y_pred_svm))"
   ]
  },
  {
   "cell_type": "code",
   "execution_count": 16,
   "metadata": {},
   "outputs": [],
   "source": [
    "# Adjust the Tfidfvectorizer parameters to include unigrams, bi-grams, and tri-grams\n",
    "vectorizer = TfidfVectorizer(stop_words='english', max_features=4000, ngram_range=(1, 3))\n",
    "X = vectorizer.fit_transform(df['speech'])\n",
    "y = df['party']"
   ]
  },
  {
   "cell_type": "code",
   "execution_count": 17,
   "metadata": {},
   "outputs": [],
   "source": [
    "# Split the data into a train and test set using stratified sampling\n",
    "X_train, X_test, y_train, y_test = train_test_split(X, y, test_size=0.2, stratify=y, random_state=99)"
   ]
  },
  {
   "cell_type": "code",
   "execution_count": 18,
   "metadata": {},
   "outputs": [
    {
     "name": "stdout",
     "output_type": "stream",
     "text": [
      "RandomForest Classifier with ngrams\n",
      "F1 Score: 0.4939674638381497\n",
      "                         precision    recall  f1-score   support\n",
      "\n",
      "           Conservative       0.73      0.97      0.83       731\n",
      "                 Labour       0.81      0.54      0.65       402\n",
      "       Liberal Democrat       0.00      0.00      0.00        50\n",
      "Scottish National Party       0.85      0.35      0.49       112\n",
      "\n",
      "               accuracy                           0.75      1295\n",
      "              macro avg       0.60      0.47      0.49      1295\n",
      "           weighted avg       0.73      0.75      0.71      1295\n",
      "\n"
     ]
    }
   ],
   "source": [
    "# Train and evaluate classifiers again with the new vectorizer settings\n",
    "# RandomForest Classifier\n",
    "rf_clf.fit(X_train, y_train)\n",
    "y_pred_rf = rf_clf.predict(X_test)\n",
    "print(\"RandomForest Classifier with ngrams\")\n",
    "print(\"F1 Score:\", f1_score(y_test, y_pred_rf, average='macro'))\n",
    "print(classification_report(y_test, y_pred_rf))"
   ]
  },
  {
   "cell_type": "code",
   "execution_count": 19,
   "metadata": {},
   "outputs": [
    {
     "name": "stdout",
     "output_type": "stream",
     "text": [
      "SVM Classifier with ngrams\n",
      "F1 Score: 0.6049185227419375\n",
      "                         precision    recall  f1-score   support\n",
      "\n",
      "           Conservative       0.84      0.94      0.89       731\n",
      "                 Labour       0.78      0.78      0.78       402\n",
      "       Liberal Democrat       1.00      0.04      0.08        50\n",
      "Scottish National Party       0.86      0.55      0.67       112\n",
      "\n",
      "               accuracy                           0.82      1295\n",
      "              macro avg       0.87      0.58      0.60      1295\n",
      "           weighted avg       0.83      0.82      0.80      1295\n",
      "\n"
     ]
    }
   ],
   "source": [
    "# SVM Classifier\n",
    "svm_clf.fit(X_train, y_train)\n",
    "y_pred_svm = svm_clf.predict(X_test)\n",
    "print(\"SVM Classifier with ngrams\")\n",
    "print(\"F1 Score:\", f1_score(y_test, y_pred_svm, average='macro'))\n",
    "print(classification_report(y_test, y_pred_svm))"
   ]
  },
  {
   "cell_type": "code",
   "execution_count": 20,
   "metadata": {},
   "outputs": [],
   "source": [
    "# Custom tokenizer\n",
    "stop_words = set(stopwords.words('english'))\n",
    "\n",
    "def custom_tokenizer(text):\n",
    "    # Tokenize the text\n",
    "    tokens = word_tokenize(text)\n",
    "    # Remove punctuation and stopwords\n",
    "    tokens = [word for word in tokens if word.isalpha() and word.lower() not in stop_words]\n",
    "    # Perform additional custom processing if needed\n",
    "    return tokens"
   ]
  },
  {
   "cell_type": "code",
   "execution_count": 21,
   "metadata": {},
   "outputs": [
    {
     "name": "stderr",
     "output_type": "stream",
     "text": [
      "C:\\Users\\wadev\\anaconda3\\Lib\\site-packages\\sklearn\\feature_extraction\\text.py:525: UserWarning: The parameter 'token_pattern' will not be used since 'tokenizer' is not None'\n",
      "  warnings.warn(\n"
     ]
    }
   ],
   "source": [
    "# Use the custom tokenizer in TfidfVectorizer\n",
    "vectorizer = TfidfVectorizer(tokenizer=custom_tokenizer, max_features=4000, ngram_range=(1, 3))\n",
    "X = vectorizer.fit_transform(df['speech'])\n",
    "y = df['party']"
   ]
  },
  {
   "cell_type": "code",
   "execution_count": 22,
   "metadata": {},
   "outputs": [],
   "source": [
    "# Split the data into a train and test set using stratified sampling\n",
    "X_train, X_test, y_train, y_test = train_test_split(X, y, test_size=0.2, stratify=y, random_state=99)"
   ]
  },
  {
   "cell_type": "code",
   "execution_count": 23,
   "metadata": {},
   "outputs": [
    {
     "name": "stdout",
     "output_type": "stream",
     "text": [
      "RandomForest Classifier with custom tokenizer\n",
      "F1 Score: 0.4965019587413562\n",
      "                         precision    recall  f1-score   support\n",
      "\n",
      "           Conservative       0.73      0.97      0.83       731\n",
      "                 Labour       0.81      0.55      0.66       402\n",
      "       Liberal Democrat       0.50      0.02      0.04        50\n",
      "Scottish National Party       0.83      0.31      0.45       112\n",
      "\n",
      "               accuracy                           0.75      1295\n",
      "              macro avg       0.72      0.47      0.50      1295\n",
      "           weighted avg       0.75      0.75      0.72      1295\n",
      "\n"
     ]
    }
   ],
   "source": [
    "# Train and evaluate classifiers again with the custom tokenizer\n",
    "# RandomForest Classifier\n",
    "rf_clf.fit(X_train, y_train)\n",
    "y_pred_rf = rf_clf.predict(X_test)\n",
    "print(\"RandomForest Classifier with custom tokenizer\")\n",
    "print(\"F1 Score:\", f1_score(y_test, y_pred_rf, average='macro'))\n",
    "print(classification_report(y_test, y_pred_rf))"
   ]
  },
  {
   "cell_type": "code",
   "execution_count": 24,
   "metadata": {},
   "outputs": [
    {
     "name": "stdout",
     "output_type": "stream",
     "text": [
      "SVM Classifier with custom tokenizer\n",
      "F1 Score: 0.6039486885350873\n",
      "                         precision    recall  f1-score   support\n",
      "\n",
      "           Conservative       0.84      0.95      0.89       731\n",
      "                 Labour       0.79      0.77      0.78       402\n",
      "       Liberal Democrat       1.00      0.04      0.08        50\n",
      "Scottish National Party       0.85      0.55      0.67       112\n",
      "\n",
      "               accuracy                           0.82      1295\n",
      "              macro avg       0.87      0.58      0.60      1295\n",
      "           weighted avg       0.83      0.82      0.80      1295\n",
      "\n"
     ]
    }
   ],
   "source": [
    "# SVM Classifier\n",
    "svm_clf.fit(X_train, y_train)\n",
    "y_pred_svm = svm_clf.predict(X_test)\n",
    "print(\"SVM Classifier with custom tokenizer\")\n",
    "print(\"F1 Score:\", f1_score(y_test, y_pred_svm, average='macro'))\n",
    "print(classification_report(y_test, y_pred_svm))"
   ]
  },
  {
   "cell_type": "code",
   "execution_count": 14,
   "metadata": {},
   "outputs": [
    {
     "name": "stdout",
     "output_type": "stream",
     "text": [
      "SVM Classifier with custom tokenizer\n",
      "F1 Score: 0.6021347544436162\n",
      "                         precision    recall  f1-score   support\n",
      "\n",
      "           Conservative       0.82      0.93      0.88       731\n",
      "                 Labour       0.77      0.76      0.76       402\n",
      "       Liberal Democrat       0.80      0.08      0.15        50\n",
      "Scottish National Party       0.84      0.50      0.63       112\n",
      "\n",
      "               accuracy                           0.81      1295\n",
      "              macro avg       0.81      0.57      0.60      1295\n",
      "           weighted avg       0.81      0.81      0.79      1295\n",
      "\n"
     ]
    }
   ],
   "source": [
    "print(\"SVM Classifier with custom tokenizer\")\n",
    "print(\"F1 Score:\", f1_score(y_test, y_pred_svm, average='macro'))\n",
    "print(classification_report(y_test, y_pred_svm))"
   ]
  },
  {
   "cell_type": "code",
   "execution_count": null,
   "metadata": {},
   "outputs": [],
   "source": []
  },
  {
   "cell_type": "code",
   "execution_count": null,
   "metadata": {},
   "outputs": [],
   "source": []
  },
  {
   "cell_type": "code",
   "execution_count": null,
   "metadata": {},
   "outputs": [],
   "source": []
  }
 ],
 "metadata": {
  "kernelspec": {
   "display_name": "Python 3 (ipykernel)",
   "language": "python",
   "name": "python3"
  },
  "language_info": {
   "codemirror_mode": {
    "name": "ipython",
    "version": 3
   },
   "file_extension": ".py",
   "mimetype": "text/x-python",
   "name": "python",
   "nbconvert_exporter": "python",
   "pygments_lexer": "ipython3",
   "version": "3.11.5"
  }
 },
 "nbformat": 4,
 "nbformat_minor": 2
}
